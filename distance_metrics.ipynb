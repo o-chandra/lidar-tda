##compare distances between PDs of BLK and ALS data##
import gudhi
import laspy as lp
import numpy as np
import time
import os
import glob 

os.chdir("/Users/oliviachandrasekhar/Desktop/s21_internship/Data/als_plot_clip")
als_list = glob.glob('*.laz') 
als_list = sorted(als_list)
len(als_list)
file_1=lp.file.File(als_list[10], mode="r") #switch around which files you're reading in--keep in mind starting at 0 vs 1

os.chdir("/Users/oliviachandrasekhar/Desktop/s21_internship/Data/tls_data/1_3_thinned")
blk_list = glob.glob('*.las') 
blk_list = sorted(blk_list)
len(blk_list)
file_2=lp.file.File(blk_list[6], mode="r")

#read in files you want to compare, convert to numpy arrays. Have to do this before changing directories if files are in different directories
#file_1=lp.file.File(blk_list[3], mode="r") #switch around which files you're reading in--keep in mind starting at 0 vs 1
#file_2=lp.file.File(als_list[3], mode="r")
file_1_array=np.array((file_1.x, file_1.y, file_1.z)).transpose()
file_2_array=np.array((file_2.x, file_2.y, file_2.z)).transpose()

#compute simplices and persistance
alpha_complex_1 = gudhi.AlphaComplex(file_1_array)
alpha_complex_2 = gudhi.AlphaComplex(file_2_array)
simplex_tree_1= alpha_complex_1.create_simplex_tree()
simplex_tree_2= alpha_complex_2.create_simplex_tree()
simplex_tree_1.compute_persistence()
simplex_tree_2.compute_persistence()
print("done!")

diag_1 = simplex_tree_1.persistence()
diag_2 = simplex_tree_2.persistence()
print("done!")

#figure out how many 0,1 and 2 dimensional features there are--not necessary, just interesting
count0=0
count1=0
count2=0
countother=0
for i in range(len(diag_1)):
    element=diag_1[i]
    dim=element[0]
    if dim==0:
        count0=count0+1
    elif dim==1:
        count1=count1+1
    elif dim==2:
        count2=count2+1 
    else: countother=countother+1
total_count=[count0,count1,count2,countother]
print(total_count)

#sort first diagram by homology dimension
pd1_0hom = []
pd1_1hom = []
pd1_2hom = []
for i in range(len(diag_1)):
    element=diag_1[i]
    dim=element[0]
    pair=element[1]
    pair=np.asarray(pair)
    if dim==0:
        pd1_0hom.append(pair)
    elif dim==1: 
        pd1_1hom.append(pair)
    elif dim==2:
        pd1_2hom.append(pair)
print("done!")

#sort second diagram by homology dimension
pd2_0hom = []
pd2_1hom = []
pd2_2hom = []
for i in range(len(diag_2)): 
    element=diag_2[i]
    dim=element[0]
    pair=element[1]
    pair=np.asarray(pair)
    if dim==0:
        pd2_0hom.append(pair)
    elif dim==1: 
        pd2_1hom.append(pair)
    elif dim==2:
        pd2_2hom.append(pair)
print("done!")

#compute bottleneck distance for each homology group
d0=gudhi.bottleneck_distance(pd1_0hom,pd2_0hom)
d1=gudhi.bottleneck_distance(pd1_1hom,pd2_1hom)
d2=gudhi.bottleneck_distance(pd1_2hom,pd2_2hom)
print(d0,d1,d2)
