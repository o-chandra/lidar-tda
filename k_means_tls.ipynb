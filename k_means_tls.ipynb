{
 "cells": [
  {
   "cell_type": "code",
   "execution_count": 12,
   "metadata": {},
   "outputs": [],
   "source": [
    "import matplotlib.pyplot as plt\n",
    "import seaborn as sns; sns.set()  # for plot styling\n",
    "import numpy as np"
   ]
  },
  {
   "cell_type": "code",
   "execution_count": 13,
   "metadata": {},
   "outputs": [],
   "source": [
    "#read in data from different notebook\n",
    "import csv\n",
    "data=[]\n",
    "with open('/Users/oliviachandrasekhar/Desktop/betti_tlsclip_45_5_clean.csv', newline='') as file:\n",
    "    reader = csv.reader(file, delimiter=',', quotechar='|')\n",
    "    for row in reader:\n",
    "        data.append(row)"
   ]
  },
  {
   "cell_type": "code",
   "execution_count": 14,
   "metadata": {},
   "outputs": [],
   "source": [
    "#get b_0,b_1,b2 from each entry above\n",
    "betti01=[]\n",
    "betti02=[]\n",
    "betti_0=[]\n",
    "betti_1=[]\n",
    "betti_2=[]\n",
    "for item in data:\n",
    "    b0=item[2]\n",
    "    b1=item[3]\n",
    "    b2=item[4]\n",
    "    point1=item[2:4]\n",
    "    point2=[item[2],item[4]]\n",
    "    betti01.append(point1)\n",
    "    betti02.append(point2)\n",
    "    betti_0.append(b0)\n",
    "    betti_1.append(b1)\n",
    "    betti_2.append(b2)\n",
    "n=len(data)\n",
    "betti01=betti01[1:n]   #betti 0 and betti 1 in the same list--for analyzing betti 0 vs. betti 1\n",
    "betti02=betti02[1:n]  \n",
    "betti_0=betti_0[1:n]  \n",
    "betti_1=betti_1[1:n]  \n",
    "betti_2=betti_2[1:n]  "
   ]
  },
  {
   "cell_type": "code",
   "execution_count": 15,
   "metadata": {},
   "outputs": [
    {
     "name": "stdout",
     "output_type": "stream",
     "text": [
      "[['48', '52'], ['88', '183'], ['86', '206'], ['101', '206'], ['82', '173'], ['48', '52'], ['88', '183'], ['86', '206'], ['101', '206'], ['82', '173'], ['80', '208'], ['114', '157'], ['110', '215'], ['117', '294'], ['89', '230'], ['63', '98'], ['84', '137'], ['97', '124'], ['101', '217'], ['85', '168'], ['82', '140'], ['83', '150'], ['64', '122'], ['50', '39'], ['43', '87'], ['67', '119'], ['73', '157'], ['118', '158'], ['94', '258'], ['116', '227'], ['94', '186'], ['88', '126'], ['85', '132'], ['83', '230'], ['97', '128'], ['118', '227'], ['113', '284'], ['95', '291'], ['109', '192'], ['116', '183'], ['75', '242'], ['79', '205'], ['98', '205'], ['115', '153']]\n"
     ]
    }
   ],
   "source": [
    "print(betti01)"
   ]
  },
  {
   "cell_type": "code",
   "execution_count": 5,
   "metadata": {},
   "outputs": [
    {
     "name": "stdout",
     "output_type": "stream",
     "text": [
      "[[ 80.27272727 130.27272727]\n",
      " [ 94.5        216.42857143]\n",
      " [104.75       281.75      ]\n",
      " [ 47.25        57.5       ]\n",
      " [ 99.18181818 173.54545455]]\n"
     ]
    },
    {
     "data": {
      "image/png": "[encoded data removed]",
      "text/plain": [
       "<Figure size 432x288 with 1 Axes>"
      ]
     },
     "metadata": {
      "needs_background": "light"
     },
     "output_type": "display_data"
    }
   ],
   "source": [
    "#k means b0 vs b1\n",
    "from sklearn.cluster import KMeans\n",
    "kmeans1 = KMeans(n_clusters=5).fit(betti01) #specify number of clusters\n",
    "y_kmeans1 = kmeans1.predict(betti01) #predict/create clusters\n",
    "#centers for b0 vs b1\n",
    "centers = kmeans1.cluster_centers_ #get centers of clusters \n",
    "print(centers)\n",
    "plt.scatter(centers[:, 0], centers[:, 1], c='blue', s=50, alpha=0.5);"
   ]
  },
  {
   "cell_type": "code",
   "execution_count": 6,
   "metadata": {},
   "outputs": [
    {
     "name": "stdout",
     "output_type": "stream",
     "text": [
      "[[113.36363636  25.54545455]\n",
      " [ 66.75        13.        ]\n",
      " [ 90.23076923  10.30769231]\n",
      " [ 85.75        26.5       ]\n",
      " [ 47.25         3.25      ]]\n"
     ]
    },
    {
     "data": {
      "image/png": "[encoded data removed]",
      "text/plain": [
       "<Figure size 432x288 with 1 Axes>"
      ]
     },
     "metadata": {
      "needs_background": "light"
     },
     "output_type": "display_data"
    }
   ],
   "source": [
    "#k means b0 vs b2\n",
    "from sklearn.cluster import KMeans\n",
    "kmeans2 = KMeans(n_clusters=5).fit(betti02)\n",
    "y_kmeans2 = kmeans2.predict(betti02)\n",
    "#centers for b0 vs b2\n",
    "centers = kmeans2.cluster_centers_\n",
    "print(centers)\n",
    "plt.scatter(centers[:, 0], centers[:, 1], c='red', s=50, alpha=0.5);"
   ]
  },
  {
   "cell_type": "code",
   "execution_count": 8,
   "metadata": {},
   "outputs": [
    {
     "data": {
      "image/png": "[encoded data removed]",
      "text/plain": [
       "<Figure size 432x288 with 1 Axes>"
      ]
     },
     "metadata": {
      "needs_background": "light"
     },
     "output_type": "display_data"
    }
   ],
   "source": [
    "#centers for b0 vs b1\n",
    "centers1 = kmeans1.cluster_centers_\n",
    "#centers for b0 vs b2\n",
    "centers2 = kmeans2.cluster_centers_\n",
    "plt.scatter(centers1[:, 0], centers[:, 1], c='blue', s=50, alpha=0.5);\n",
    "plt.scatter(centers2[:, 0], centers[:, 1], c='red', s=50, alpha=0.5);\n",
    "\n",
    "#axes aren't scaled correctly, fix below"
   ]
  },
  {
   "cell_type": "code",
   "execution_count": 9,
   "metadata": {},
   "outputs": [],
   "source": [
    "centers1x=[]\n",
    "centers1y=[]\n",
    "for item in centers1:\n",
    "    centers1x.append(item[0])\n",
    "    centers1y.append(item[1])"
   ]
  },
  {
   "cell_type": "code",
   "execution_count": 10,
   "metadata": {},
   "outputs": [],
   "source": [
    "centers2x=[]\n",
    "centers2y=[]\n",
    "for item in centers2:\n",
    "    centers2x.append(item[0])\n",
    "    centers2y.append(item[1])"
   ]
  },
  {
   "cell_type": "code",
   "execution_count": 11,
   "metadata": {},
   "outputs": [
    {
     "data": {
      "image/png": "[encoded data removed]",
      "text/plain": [
       "<Figure size 432x288 with 1 Axes>"
      ]
     },
     "metadata": {
      "needs_background": "light"
     },
     "output_type": "display_data"
    }
   ],
   "source": [
    "fig, ax = plt.subplots()\n",
    "ax.plot(centers1x,centers1y,'o')\n",
    "ax.plot(centers2x,centers2y,'o', color='red')\n",
    "plt.show()"
   ]
  },
  {
   "cell_type": "code",
   "execution_count": null,
   "metadata": {},
   "outputs": [],
   "source": [
    "#that's better!"
   ]
  }
 ],
 "metadata": {
  "kernelspec": {
   "display_name": "Python 3",
   "language": "python",
   "name": "python3"
  },
  "language_info": {
   "codemirror_mode": {
    "name": "ipython",
    "version": 3
   },
   "file_extension": ".py",
   "mimetype": "text/x-python",
   "name": "python",
   "nbconvert_exporter": "python",
   "pygments_lexer": "ipython3",
   "version": "3.7.4"
  }
 },
 "nbformat": 4,
 "nbformat_minor": 2
}
